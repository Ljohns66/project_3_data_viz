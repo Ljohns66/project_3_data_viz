{
 "cells": [
  {
   "cell_type": "code",
   "execution_count": 2,
   "id": "6d34c0ee",
   "metadata": {},
   "outputs": [],
   "source": [
    "#main data file and import script for project 3\n",
    "# Aaliyah, Cameron, Lewis, and Seth\n",
    "# 7.20.23\n",
    "# data source mpls open data https://opendata.minneapolismn.gov/datasets (Confirmed Fires 2012-2015 files)\n",
    "# CSV option under Crime Data Header\n",
    "# import data csv files and save in your repository \n",
    "import pandas as pd\n",
    "import csv\n",
    "\n",
    "file2012 = \"Resources/Fires_Confirmed_2012.csv\"\n",
    "file2013 = \"Resources/Fires_Confirmed_2013.csv\"\n",
    "file2014 = \"Resources/Fires_Confirmed_2014.csv\"\n",
    "file2015 = \"Resources/Fires_Confirmed_2015.csv\"\n",
    "fileweather = \"Resources/minneapolis_st_paul_weather_data.csv\""
   ]
  },
  {
   "cell_type": "code",
   "execution_count": 3,
   "id": "7db648c1",
   "metadata": {},
   "outputs": [],
   "source": [
    "#reads the csv file \n",
    "fire_2012 = pd.read_csv(file2012)\n",
    "fire_2013 = pd.read_csv(file2013)\n",
    "fire_2014 = pd.read_csv(file2014)\n",
    "fire_2015 = pd.read_csv(file2015)\n",
    "weather_data = pd.read_csv(fileweather)"
   ]
  },
  {
   "cell_type": "code",
   "execution_count": 4,
   "id": "a68e3ca4",
   "metadata": {},
   "outputs": [
    {
     "data": {
      "text/plain": [
       "Index(['X', 'Y', 'ESRI_OID', 'inci_no', 'descript', 'alm_date', 'alm_time',\n",
       "       'station', 'number', 'street', 'st_type', 'st_suffix', 'addr_2',\n",
       "       'apt_room', 'xst_prefix', 'xstreet', 'xst_type', 'xst_suffix',\n",
       "       'latitude', 'longitude', 'inci_type', 'clr_date', 'clr_time', 'alarms',\n",
       "       'complete', 'LastUpdateDate'],\n",
       "      dtype='object')"
      ]
     },
     "execution_count": 4,
     "metadata": {},
     "output_type": "execute_result"
    }
   ],
   "source": [
    "#find column names for each dataset to compare\n",
    "fire_2012.columns"
   ]
  },
  {
   "cell_type": "code",
   "execution_count": 5,
   "id": "e53f152d",
   "metadata": {},
   "outputs": [
    {
     "data": {
      "text/plain": [
       "Index(['X', 'Y', 'OBJECTID', 'inci_no', 'descript', 'alm_date', 'alm_time',\n",
       "       'station', 'number_', 'street', 'st_type', 'st_suffix', 'addr_2',\n",
       "       'apt_room', 'xst_prefix', 'xstreet', 'xst_type', 'xst_suffix',\n",
       "       'latitude', 'longitude', 'inci_type', 'clr_date', 'clr_time', 'alarms',\n",
       "       'complete', 'LastUpdateDate', 'StartDate', 'EndDate'],\n",
       "      dtype='object')"
      ]
     },
     "execution_count": 5,
     "metadata": {},
     "output_type": "execute_result"
    }
   ],
   "source": [
    "fire_2013.columns"
   ]
  },
  {
   "cell_type": "code",
   "execution_count": 6,
   "id": "cef9da87",
   "metadata": {},
   "outputs": [],
   "source": [
    "#had to rename 'ESRI_OID' in 2013; had diff name compared to other dfs\n",
    "fire_2013.rename(columns={'OBJECTID': 'ESRI_OID'}, inplace=True)"
   ]
  },
  {
   "cell_type": "code",
   "execution_count": 7,
   "id": "9a4f3cd4",
   "metadata": {},
   "outputs": [
    {
     "data": {
      "text/plain": [
       "Index(['X', 'Y', 'ESRI_OID', 'inci_no', 'descript', 'alm_date', 'alm_time',\n",
       "       'station', 'number', 'street', 'st_type', 'st_suffix', 'addr_2',\n",
       "       'apt_room', 'xst_prefix', 'xstreet', 'xst_type', 'xst_suffix',\n",
       "       'latitude', 'longitude', 'inci_type', 'clr_date', 'clr_time', 'alarms',\n",
       "       'complete', 'LastUpdateDate', 'StartDate', 'EndDate'],\n",
       "      dtype='object')"
      ]
     },
     "execution_count": 7,
     "metadata": {},
     "output_type": "execute_result"
    }
   ],
   "source": [
    "fire_2014.columns"
   ]
  },
  {
   "cell_type": "code",
   "execution_count": 8,
   "id": "fbb6f390",
   "metadata": {},
   "outputs": [
    {
     "data": {
      "text/plain": [
       "Index(['X', 'Y', 'ESRI_OID', 'inci_no', 'descript', 'alm_date', 'alm_time',\n",
       "       'station', 'number', 'street', 'st_type', 'st_suffix', 'addr_2',\n",
       "       'apt_room', 'xst_prefix', 'xstreet', 'xst_type', 'xst_suffix',\n",
       "       'latitude', 'longitude', 'inci_type', 'clr_date', 'clr_time', 'alarms',\n",
       "       'complete', 'LastUpdateDate', 'StartDate', 'EndDate'],\n",
       "      dtype='object')"
      ]
     },
     "execution_count": 8,
     "metadata": {},
     "output_type": "execute_result"
    }
   ],
   "source": [
    "fire_2015.columns"
   ]
  },
  {
   "cell_type": "code",
   "execution_count": 9,
   "id": "dbbc7a4e",
   "metadata": {},
   "outputs": [
    {
     "data": {
      "text/plain": [
       "X                 float64\n",
       "Y                 float64\n",
       "ESRI_OID            int64\n",
       "inci_no            object\n",
       "descript           object\n",
       "alm_date           object\n",
       "alm_time           object\n",
       "station            object\n",
       "number             object\n",
       "street             object\n",
       "st_type            object\n",
       "st_suffix          object\n",
       "addr_2             object\n",
       "apt_room           object\n",
       "xst_prefix         object\n",
       "xstreet            object\n",
       "xst_type           object\n",
       "xst_suffix         object\n",
       "latitude          float64\n",
       "longitude         float64\n",
       "inci_type           int64\n",
       "clr_date           object\n",
       "clr_time           object\n",
       "alarms              int64\n",
       "complete            int64\n",
       "LastUpdateDate     object\n",
       "StartDate          object\n",
       "EndDate            object\n",
       "dtype: object"
      ]
     },
     "execution_count": 9,
     "metadata": {},
     "output_type": "execute_result"
    }
   ],
   "source": [
    "fire_2015.dtypes"
   ]
  },
  {
   "cell_type": "code",
   "execution_count": 10,
   "id": "62e0cbc6",
   "metadata": {},
   "outputs": [
    {
     "data": {
      "text/plain": [
       "Index(['Date', 'Maximum Temperature degrees (F)',\n",
       "       'Minimum Temperature degrees (F)', 'Precipitation (inches)',\n",
       "       'Snow (inches)', 'Snow Depth (inches)'],\n",
       "      dtype='object')"
      ]
     },
     "execution_count": 10,
     "metadata": {},
     "output_type": "execute_result"
    }
   ],
   "source": [
    "weather_data.columns"
   ]
  },
  {
   "cell_type": "code",
   "execution_count": 11,
   "id": "3d6ee035",
   "metadata": {},
   "outputs": [
    {
     "data": {
      "text/plain": [
       "Date                               object\n",
       "Maximum Temperature degrees (F)    object\n",
       "Minimum Temperature degrees (F)    object\n",
       "Precipitation (inches)             object\n",
       "Snow (inches)                      object\n",
       "Snow Depth (inches)                object\n",
       "dtype: object"
      ]
     },
     "execution_count": 11,
     "metadata": {},
     "output_type": "execute_result"
    }
   ],
   "source": [
    "#check weather data types for later\n",
    "weather_data.dtypes"
   ]
  },
  {
   "cell_type": "code",
   "execution_count": 4,
   "id": "b54d0a51",
   "metadata": {},
   "outputs": [],
   "source": [
    "#make the csv file into json for each year\n",
    "fire2012_shrunk = fire_2012[['X', 'Y', 'descript', 'alm_date', 'station']]\n",
    "fire2012_df = fire2012_shrunk.rename(columns={\"X\":\"Longitude\",\n",
    "                                              \"Y\":\"Latitude\" ,\n",
    "                                              \"descript\":\"Description\",\n",
    "                                              \"alm_date\":\"Date\",\n",
    "                                              \"station\":\"Station\"})\n",
    "output_json1 = 'Fires_2012.json'\n",
    "fire2012_df.to_json(output_json1, orient='records')"
   ]
  },
  {
   "cell_type": "code",
   "execution_count": 5,
   "id": "a81fff38",
   "metadata": {},
   "outputs": [],
   "source": [
    "fire2013_shrunk = fire_2013[['X', 'Y', 'descript', 'alm_date', 'station']]\n",
    "fire2013_df = fire2013_shrunk.rename(columns={\"X\":\"Longitude\",\n",
    "                                              \"Y\":\"Latitude\" ,\n",
    "                                              \"descript\":\"Description\",\n",
    "                                              \"alm_date\":\"Date\",\n",
    "                                              \"station\":\"Station\"})\n",
    "output_json2 = 'Fires_2013.json'\n",
    "fire2013_df.to_json(output_json2, orient='records')"
   ]
  },
  {
   "cell_type": "code",
   "execution_count": 6,
   "id": "fab98f6f",
   "metadata": {},
   "outputs": [],
   "source": [
    "fire2014_shrunk = fire_2014[['X', 'Y', 'descript', 'alm_date', 'station']]\n",
    "fire2014_df = fire2014_shrunk.rename(columns={\"X\":\"Longitude\",\n",
    "                                              \"Y\":\"Latitude\" ,\n",
    "                                              \"descript\":\"Description\",\n",
    "                                              \"alm_date\":\"Date\",\n",
    "                                              \"station\":\"Station\"})\n",
    "output_json3 = 'Fires_2014.json'\n",
    "fire2014_df.to_json(output_json3, orient='records')"
   ]
  },
  {
   "cell_type": "code",
   "execution_count": 7,
   "id": "c96b1950",
   "metadata": {},
   "outputs": [],
   "source": [
    "fire2015_shrunk = fire_2015[['X', 'Y', 'descript', 'alm_date', 'station']]\n",
    "fire2015_df = fire2015_shrunk.rename(columns={\"X\":\"Longitude\",\n",
    "                                              \"Y\":\"Latitude\" ,\n",
    "                                              \"descript\":\"Description\",\n",
    "                                              \"alm_date\":\"Date\",\n",
    "                                              \"station\":\"Station\"})\n",
    "output_json4 = 'Fires_2015.json'\n",
    "fire2015_df.to_json(output_json4, orient='records')"
   ]
  },
  {
   "cell_type": "code",
   "execution_count": 8,
   "id": "1604bd87",
   "metadata": {},
   "outputs": [],
   "source": [
    "output_json5 = 'weather.json'\n",
    "weather_data.to_json(output_json5, orient='records')"
   ]
  },
  {
   "cell_type": "code",
   "execution_count": 13,
   "id": "12ee601d",
   "metadata": {},
   "outputs": [
    {
     "data": {
      "text/html": [
       "<div>\n",
       "<style scoped>\n",
       "    .dataframe tbody tr th:only-of-type {\n",
       "        vertical-align: middle;\n",
       "    }\n",
       "\n",
       "    .dataframe tbody tr th {\n",
       "        vertical-align: top;\n",
       "    }\n",
       "\n",
       "    .dataframe thead th {\n",
       "        text-align: right;\n",
       "    }\n",
       "</style>\n",
       "<table border=\"1\" class=\"dataframe\">\n",
       "  <thead>\n",
       "    <tr style=\"text-align: right;\">\n",
       "      <th></th>\n",
       "      <th></th>\n",
       "      <th>Description</th>\n",
       "      <th>Date</th>\n",
       "      <th>Station</th>\n",
       "    </tr>\n",
       "    <tr>\n",
       "      <th>Longitude</th>\n",
       "      <th>Latitude</th>\n",
       "      <th></th>\n",
       "      <th></th>\n",
       "      <th></th>\n",
       "    </tr>\n",
       "  </thead>\n",
       "  <tbody>\n",
       "    <tr>\n",
       "      <th>-93.366422</th>\n",
       "      <th>44.915423</th>\n",
       "      <td>1</td>\n",
       "      <td>1</td>\n",
       "      <td>1</td>\n",
       "    </tr>\n",
       "    <tr>\n",
       "      <th>-93.336682</th>\n",
       "      <th>44.931884</th>\n",
       "      <td>1</td>\n",
       "      <td>1</td>\n",
       "      <td>1</td>\n",
       "    </tr>\n",
       "    <tr>\n",
       "      <th>-93.333632</th>\n",
       "      <th>44.868376</th>\n",
       "      <td>1</td>\n",
       "      <td>1</td>\n",
       "      <td>1</td>\n",
       "    </tr>\n",
       "    <tr>\n",
       "      <th>-93.329104</th>\n",
       "      <th>44.919714</th>\n",
       "      <td>1</td>\n",
       "      <td>1</td>\n",
       "      <td>1</td>\n",
       "    </tr>\n",
       "    <tr>\n",
       "      <th>-93.329101</th>\n",
       "      <th>44.921005</th>\n",
       "      <td>4</td>\n",
       "      <td>4</td>\n",
       "      <td>4</td>\n",
       "    </tr>\n",
       "    <tr>\n",
       "      <th>...</th>\n",
       "      <th>...</th>\n",
       "      <td>...</td>\n",
       "      <td>...</td>\n",
       "      <td>...</td>\n",
       "    </tr>\n",
       "    <tr>\n",
       "      <th>-93.199342</th>\n",
       "      <th>44.905391</th>\n",
       "      <td>3</td>\n",
       "      <td>3</td>\n",
       "      <td>3</td>\n",
       "    </tr>\n",
       "    <tr>\n",
       "      <th>-93.199167</th>\n",
       "      <th>44.885278</th>\n",
       "      <td>1</td>\n",
       "      <td>1</td>\n",
       "      <td>1</td>\n",
       "    </tr>\n",
       "    <tr>\n",
       "      <th>-93.198584</th>\n",
       "      <th>44.905384</th>\n",
       "      <td>1</td>\n",
       "      <td>1</td>\n",
       "      <td>1</td>\n",
       "    </tr>\n",
       "    <tr>\n",
       "      <th>-93.186944</th>\n",
       "      <th>44.987500</th>\n",
       "      <td>1</td>\n",
       "      <td>1</td>\n",
       "      <td>1</td>\n",
       "    </tr>\n",
       "    <tr>\n",
       "      <th>-93.186013</th>\n",
       "      <th>44.977864</th>\n",
       "      <td>1</td>\n",
       "      <td>1</td>\n",
       "      <td>1</td>\n",
       "    </tr>\n",
       "  </tbody>\n",
       "</table>\n",
       "<p>14770 rows × 3 columns</p>\n",
       "</div>"
      ],
      "text/plain": [
       "                      Description  Date  Station\n",
       "Longitude  Latitude                             \n",
       "-93.366422 44.915423            1     1        1\n",
       "-93.336682 44.931884            1     1        1\n",
       "-93.333632 44.868376            1     1        1\n",
       "-93.329104 44.919714            1     1        1\n",
       "-93.329101 44.921005            4     4        4\n",
       "...                           ...   ...      ...\n",
       "-93.199342 44.905391            3     3        3\n",
       "-93.199167 44.885278            1     1        1\n",
       "-93.198584 44.905384            1     1        1\n",
       "-93.186944 44.987500            1     1        1\n",
       "-93.186013 44.977864            1     1        1\n",
       "\n",
       "[14770 rows x 3 columns]"
      ]
     },
     "execution_count": 13,
     "metadata": {},
     "output_type": "execute_result"
    }
   ],
   "source": [
    "u =fire2012_df.groupby([\"Longitude\", \"Latitude\"])\n",
    "u.count()"
   ]
  },
  {
   "cell_type": "code",
   "execution_count": 14,
   "id": "0ae68baf",
   "metadata": {},
   "outputs": [
    {
     "data": {
      "text/plain": [
       "Longitude      36987\n",
       "Latitude       36987\n",
       "Description    36987\n",
       "Date           36987\n",
       "Station        36987\n",
       "dtype: int64"
      ]
     },
     "execution_count": 14,
     "metadata": {},
     "output_type": "execute_result"
    }
   ],
   "source": [
    "fire2012_df.count()"
   ]
  },
  {
   "cell_type": "code",
   "execution_count": null,
   "id": "51f70667",
   "metadata": {},
   "outputs": [],
   "source": []
  },
  {
   "cell_type": "code",
   "execution_count": 12,
   "id": "0b1dc0d4",
   "metadata": {},
   "outputs": [
    {
     "data": {
      "text/html": [
       "<div>\n",
       "<style scoped>\n",
       "    .dataframe tbody tr th:only-of-type {\n",
       "        vertical-align: middle;\n",
       "    }\n",
       "\n",
       "    .dataframe tbody tr th {\n",
       "        vertical-align: top;\n",
       "    }\n",
       "\n",
       "    .dataframe thead th {\n",
       "        text-align: right;\n",
       "    }\n",
       "</style>\n",
       "<table border=\"1\" class=\"dataframe\">\n",
       "  <thead>\n",
       "    <tr style=\"text-align: right;\">\n",
       "      <th></th>\n",
       "      <th>X</th>\n",
       "      <th>Y</th>\n",
       "      <th>ESRI_OID</th>\n",
       "      <th>inci_no</th>\n",
       "      <th>descript</th>\n",
       "      <th>alm_date</th>\n",
       "      <th>alm_time</th>\n",
       "      <th>station</th>\n",
       "      <th>number</th>\n",
       "      <th>street</th>\n",
       "      <th>...</th>\n",
       "      <th>longitude</th>\n",
       "      <th>inci_type</th>\n",
       "      <th>clr_date</th>\n",
       "      <th>clr_time</th>\n",
       "      <th>alarms</th>\n",
       "      <th>complete</th>\n",
       "      <th>LastUpdateDate</th>\n",
       "      <th>number_</th>\n",
       "      <th>StartDate</th>\n",
       "      <th>EndDate</th>\n",
       "    </tr>\n",
       "  </thead>\n",
       "  <tbody>\n",
       "    <tr>\n",
       "      <th>0</th>\n",
       "      <td>-93.286230</td>\n",
       "      <td>45.027240</td>\n",
       "      <td>1</td>\n",
       "      <td>12-0000000</td>\n",
       "      <td>HazMat release investigation w/no HazMat      ...</td>\n",
       "      <td>2012/02/21 00:00:00+00</td>\n",
       "      <td>14:45:03</td>\n",
       "      <td>20</td>\n",
       "      <td>4800</td>\n",
       "      <td>- 4801 Interstate 94 Eb</td>\n",
       "      <td>...</td>\n",
       "      <td>-93.286230</td>\n",
       "      <td>671</td>\n",
       "      <td>2012/02/21 00:00:00+00</td>\n",
       "      <td>14:58:30</td>\n",
       "      <td>1</td>\n",
       "      <td>1</td>\n",
       "      <td>2015/03/11 11:13:29+00</td>\n",
       "      <td>NaN</td>\n",
       "      <td>NaN</td>\n",
       "      <td>NaN</td>\n",
       "    </tr>\n",
       "    <tr>\n",
       "      <th>1</th>\n",
       "      <td>-93.298301</td>\n",
       "      <td>44.997412</td>\n",
       "      <td>2</td>\n",
       "      <td>12-0000001</td>\n",
       "      <td>EMS-Asst medics-did NOT provide any BLS Treatm...</td>\n",
       "      <td>2012/01/01 00:00:00+00</td>\n",
       "      <td>00:02:51</td>\n",
       "      <td>04</td>\n",
       "      <td>1401</td>\n",
       "      <td>18</td>\n",
       "      <td>...</td>\n",
       "      <td>-93.298301</td>\n",
       "      <td>300B</td>\n",
       "      <td>2012/01/01 00:00:00+00</td>\n",
       "      <td>00:17:20</td>\n",
       "      <td>1</td>\n",
       "      <td>1</td>\n",
       "      <td>2015/03/11 11:13:29+00</td>\n",
       "      <td>NaN</td>\n",
       "      <td>NaN</td>\n",
       "      <td>NaN</td>\n",
       "    </tr>\n",
       "    <tr>\n",
       "      <th>2</th>\n",
       "      <td>-93.298333</td>\n",
       "      <td>44.948333</td>\n",
       "      <td>3</td>\n",
       "      <td>12-0000003</td>\n",
       "      <td>EMS call, excluding vehicle accident with inju...</td>\n",
       "      <td>2012/01/01 00:00:00+00</td>\n",
       "      <td>00:05:09</td>\n",
       "      <td>22</td>\n",
       "      <td>3001</td>\n",
       "      <td>Hennepin</td>\n",
       "      <td>...</td>\n",
       "      <td>-93.298333</td>\n",
       "      <td>321</td>\n",
       "      <td>2012/01/01 00:00:00+00</td>\n",
       "      <td>00:30:53</td>\n",
       "      <td>1</td>\n",
       "      <td>1</td>\n",
       "      <td>2015/03/11 11:13:29+00</td>\n",
       "      <td>NaN</td>\n",
       "      <td>NaN</td>\n",
       "      <td>NaN</td>\n",
       "    </tr>\n",
       "    <tr>\n",
       "      <th>3</th>\n",
       "      <td>-93.247266</td>\n",
       "      <td>44.963666</td>\n",
       "      <td>4</td>\n",
       "      <td>12-0000004</td>\n",
       "      <td>Medical assist, assist EMS crew               ...</td>\n",
       "      <td>2012/01/01 00:00:00+00</td>\n",
       "      <td>00:05:58</td>\n",
       "      <td>07</td>\n",
       "      <td>917</td>\n",
       "      <td>Cedar</td>\n",
       "      <td>...</td>\n",
       "      <td>-93.247266</td>\n",
       "      <td>311</td>\n",
       "      <td>2012/01/01 00:00:00+00</td>\n",
       "      <td>00:15:37</td>\n",
       "      <td>1</td>\n",
       "      <td>1</td>\n",
       "      <td>2015/03/11 11:13:29+00</td>\n",
       "      <td>NaN</td>\n",
       "      <td>NaN</td>\n",
       "      <td>NaN</td>\n",
       "    </tr>\n",
       "    <tr>\n",
       "      <th>4</th>\n",
       "      <td>-93.311575</td>\n",
       "      <td>45.006027</td>\n",
       "      <td>5</td>\n",
       "      <td>12-0000006</td>\n",
       "      <td>Dispatched &amp; cancelled en route               ...</td>\n",
       "      <td>2012/01/01 00:00:00+00</td>\n",
       "      <td>00:10:53</td>\n",
       "      <td>14</td>\n",
       "      <td></td>\n",
       "      <td>26</td>\n",
       "      <td>...</td>\n",
       "      <td>-93.311575</td>\n",
       "      <td>611</td>\n",
       "      <td>2012/01/01 00:00:00+00</td>\n",
       "      <td>00:14:57</td>\n",
       "      <td>1</td>\n",
       "      <td>1</td>\n",
       "      <td>2015/03/11 11:13:29+00</td>\n",
       "      <td>NaN</td>\n",
       "      <td>NaN</td>\n",
       "      <td>NaN</td>\n",
       "    </tr>\n",
       "  </tbody>\n",
       "</table>\n",
       "<p>5 rows × 29 columns</p>\n",
       "</div>"
      ],
      "text/plain": [
       "           X          Y  ESRI_OID     inci_no  \\\n",
       "0 -93.286230  45.027240         1  12-0000000   \n",
       "1 -93.298301  44.997412         2  12-0000001   \n",
       "2 -93.298333  44.948333         3  12-0000003   \n",
       "3 -93.247266  44.963666         4  12-0000004   \n",
       "4 -93.311575  45.006027         5  12-0000006   \n",
       "\n",
       "                                            descript                alm_date  \\\n",
       "0  HazMat release investigation w/no HazMat      ...  2012/02/21 00:00:00+00   \n",
       "1  EMS-Asst medics-did NOT provide any BLS Treatm...  2012/01/01 00:00:00+00   \n",
       "2  EMS call, excluding vehicle accident with inju...  2012/01/01 00:00:00+00   \n",
       "3  Medical assist, assist EMS crew               ...  2012/01/01 00:00:00+00   \n",
       "4  Dispatched & cancelled en route               ...  2012/01/01 00:00:00+00   \n",
       "\n",
       "   alm_time station    number                     street  ...  longitude  \\\n",
       "0  14:45:03     20   4800      - 4801 Interstate 94 Eb    ... -93.286230   \n",
       "1  00:02:51     04   1401      18                         ... -93.298301   \n",
       "2  00:05:09     22   3001      Hennepin                   ... -93.298333   \n",
       "3  00:05:58     07   917       Cedar                      ... -93.247266   \n",
       "4  00:10:53     14             26                         ... -93.311575   \n",
       "\n",
       "  inci_type                clr_date  clr_time alarms complete  \\\n",
       "0      671   2012/02/21 00:00:00+00  14:58:30      1        1   \n",
       "1      300B  2012/01/01 00:00:00+00  00:17:20      1        1   \n",
       "2      321   2012/01/01 00:00:00+00  00:30:53      1        1   \n",
       "3      311   2012/01/01 00:00:00+00  00:15:37      1        1   \n",
       "4      611   2012/01/01 00:00:00+00  00:14:57      1        1   \n",
       "\n",
       "           LastUpdateDate number_  StartDate  EndDate  \n",
       "0  2015/03/11 11:13:29+00     NaN        NaN      NaN  \n",
       "1  2015/03/11 11:13:29+00     NaN        NaN      NaN  \n",
       "2  2015/03/11 11:13:29+00     NaN        NaN      NaN  \n",
       "3  2015/03/11 11:13:29+00     NaN        NaN      NaN  \n",
       "4  2015/03/11 11:13:29+00     NaN        NaN      NaN  \n",
       "\n",
       "[5 rows x 29 columns]"
      ]
     },
     "execution_count": 12,
     "metadata": {},
     "output_type": "execute_result"
    }
   ],
   "source": [
    "#Merge all fire data and display\n",
    "merged_df = pd.concat([fire_2012, fire_2013, fire_2014, fire_2015], ignore_index=True)\n",
    "merged_df.head(5)"
   ]
  },
  {
   "cell_type": "code",
   "execution_count": 13,
   "id": "9e318cd8",
   "metadata": {},
   "outputs": [
    {
     "data": {
      "text/html": [
       "<div>\n",
       "<style scoped>\n",
       "    .dataframe tbody tr th:only-of-type {\n",
       "        vertical-align: middle;\n",
       "    }\n",
       "\n",
       "    .dataframe tbody tr th {\n",
       "        vertical-align: top;\n",
       "    }\n",
       "\n",
       "    .dataframe thead th {\n",
       "        text-align: right;\n",
       "    }\n",
       "</style>\n",
       "<table border=\"1\" class=\"dataframe\">\n",
       "  <thead>\n",
       "    <tr style=\"text-align: right;\">\n",
       "      <th></th>\n",
       "      <th>X</th>\n",
       "      <th>Y</th>\n",
       "      <th>descript</th>\n",
       "      <th>alm_date</th>\n",
       "      <th>station</th>\n",
       "    </tr>\n",
       "  </thead>\n",
       "  <tbody>\n",
       "    <tr>\n",
       "      <th>0</th>\n",
       "      <td>-93.286230</td>\n",
       "      <td>45.027240</td>\n",
       "      <td>HazMat release investigation w/no HazMat      ...</td>\n",
       "      <td>2012/02/21 00:00:00+00</td>\n",
       "      <td>20</td>\n",
       "    </tr>\n",
       "    <tr>\n",
       "      <th>1</th>\n",
       "      <td>-93.298301</td>\n",
       "      <td>44.997412</td>\n",
       "      <td>EMS-Asst medics-did NOT provide any BLS Treatm...</td>\n",
       "      <td>2012/01/01 00:00:00+00</td>\n",
       "      <td>04</td>\n",
       "    </tr>\n",
       "    <tr>\n",
       "      <th>2</th>\n",
       "      <td>-93.298333</td>\n",
       "      <td>44.948333</td>\n",
       "      <td>EMS call, excluding vehicle accident with inju...</td>\n",
       "      <td>2012/01/01 00:00:00+00</td>\n",
       "      <td>22</td>\n",
       "    </tr>\n",
       "    <tr>\n",
       "      <th>3</th>\n",
       "      <td>-93.247266</td>\n",
       "      <td>44.963666</td>\n",
       "      <td>Medical assist, assist EMS crew               ...</td>\n",
       "      <td>2012/01/01 00:00:00+00</td>\n",
       "      <td>07</td>\n",
       "    </tr>\n",
       "    <tr>\n",
       "      <th>4</th>\n",
       "      <td>-93.311575</td>\n",
       "      <td>45.006027</td>\n",
       "      <td>Dispatched &amp; cancelled en route               ...</td>\n",
       "      <td>2012/01/01 00:00:00+00</td>\n",
       "      <td>14</td>\n",
       "    </tr>\n",
       "    <tr>\n",
       "      <th>5</th>\n",
       "      <td>-93.231284</td>\n",
       "      <td>44.983857</td>\n",
       "      <td>EMS-Asst medics-did NOT provide any BLS Treatm...</td>\n",
       "      <td>2012/01/01 00:00:00+00</td>\n",
       "      <td>19</td>\n",
       "    </tr>\n",
       "    <tr>\n",
       "      <th>6</th>\n",
       "      <td>-93.237995</td>\n",
       "      <td>44.986543</td>\n",
       "      <td>Local alarm system, malicious false alarm     ...</td>\n",
       "      <td>2012/01/01 00:00:00+00</td>\n",
       "      <td>19</td>\n",
       "    </tr>\n",
       "    <tr>\n",
       "      <th>7</th>\n",
       "      <td>-93.271944</td>\n",
       "      <td>44.975278</td>\n",
       "      <td>EMS-Arrive &amp; Cancelled before PT Contact or No...</td>\n",
       "      <td>2012/01/01 00:00:00+00</td>\n",
       "      <td>06</td>\n",
       "    </tr>\n",
       "    <tr>\n",
       "      <th>8</th>\n",
       "      <td>-93.222883</td>\n",
       "      <td>44.970191</td>\n",
       "      <td>EMS-Asst medics-did NOT provide any BLS Treatm...</td>\n",
       "      <td>2012/01/01 00:00:00+00</td>\n",
       "      <td>19</td>\n",
       "    </tr>\n",
       "    <tr>\n",
       "      <th>9</th>\n",
       "      <td>-93.235556</td>\n",
       "      <td>44.980556</td>\n",
       "      <td>EMS call, excluding vehicle accident with inju...</td>\n",
       "      <td>2012/01/01 00:00:00+00</td>\n",
       "      <td>19</td>\n",
       "    </tr>\n",
       "  </tbody>\n",
       "</table>\n",
       "</div>"
      ],
      "text/plain": [
       "           X          Y                                           descript  \\\n",
       "0 -93.286230  45.027240  HazMat release investigation w/no HazMat      ...   \n",
       "1 -93.298301  44.997412  EMS-Asst medics-did NOT provide any BLS Treatm...   \n",
       "2 -93.298333  44.948333  EMS call, excluding vehicle accident with inju...   \n",
       "3 -93.247266  44.963666  Medical assist, assist EMS crew               ...   \n",
       "4 -93.311575  45.006027  Dispatched & cancelled en route               ...   \n",
       "5 -93.231284  44.983857  EMS-Asst medics-did NOT provide any BLS Treatm...   \n",
       "6 -93.237995  44.986543  Local alarm system, malicious false alarm     ...   \n",
       "7 -93.271944  44.975278  EMS-Arrive & Cancelled before PT Contact or No...   \n",
       "8 -93.222883  44.970191  EMS-Asst medics-did NOT provide any BLS Treatm...   \n",
       "9 -93.235556  44.980556  EMS call, excluding vehicle accident with inju...   \n",
       "\n",
       "                 alm_date station  \n",
       "0  2012/02/21 00:00:00+00     20   \n",
       "1  2012/01/01 00:00:00+00     04   \n",
       "2  2012/01/01 00:00:00+00     22   \n",
       "3  2012/01/01 00:00:00+00     07   \n",
       "4  2012/01/01 00:00:00+00     14   \n",
       "5  2012/01/01 00:00:00+00     19   \n",
       "6  2012/01/01 00:00:00+00     19   \n",
       "7  2012/01/01 00:00:00+00     06   \n",
       "8  2012/01/01 00:00:00+00     19   \n",
       "9  2012/01/01 00:00:00+00     19   "
      ]
     },
     "execution_count": 13,
     "metadata": {},
     "output_type": "execute_result"
    }
   ],
   "source": [
    "#Limit to select columns\n",
    "merged_df_shrunk = merged_df[['X', 'Y', 'descript', 'alm_date', 'station']]\n",
    "merged_df_shrunk.head(10)"
   ]
  },
  {
   "cell_type": "code",
   "execution_count": 14,
   "id": "8136a263",
   "metadata": {},
   "outputs": [
    {
     "data": {
      "text/plain": [
       "40747"
      ]
     },
     "execution_count": 14,
     "metadata": {},
     "output_type": "execute_result"
    }
   ],
   "source": [
    "#get count of one column to prep for null value check \n",
    "merged_df_shrunk[\"X\"].count()"
   ]
  },
  {
   "cell_type": "code",
   "execution_count": 15,
   "id": "22d62614",
   "metadata": {},
   "outputs": [
    {
     "data": {
      "text/plain": [
       "40747"
      ]
     },
     "execution_count": 15,
     "metadata": {},
     "output_type": "execute_result"
    }
   ],
   "source": [
    "# Remove rows containing all null values- cleaning data set\n",
    "clean_fire_df = merged_df_shrunk.dropna(how='any')\n",
    "clean_fire_df[\"X\"].count()"
   ]
  },
  {
   "cell_type": "code",
   "execution_count": 16,
   "id": "64ff94ea",
   "metadata": {},
   "outputs": [
    {
     "data": {
      "text/plain": [
       "X           float64\n",
       "Y           float64\n",
       "descript     object\n",
       "alm_date     object\n",
       "station      object\n",
       "dtype: object"
      ]
     },
     "execution_count": 16,
     "metadata": {},
     "output_type": "execute_result"
    }
   ],
   "source": [
    "#check data types\n",
    "clean_fire_df.dtypes"
   ]
  },
  {
   "cell_type": "code",
   "execution_count": 17,
   "id": "ee1c7194",
   "metadata": {},
   "outputs": [],
   "source": [
    "#change date to date type from object\n",
    "clean_fire_df['alm_date'] = pd.to_datetime(clean_fire_df['alm_date'])"
   ]
  },
  {
   "cell_type": "code",
   "execution_count": 18,
   "id": "ff0f8f44",
   "metadata": {},
   "outputs": [
    {
     "data": {
      "text/html": [
       "<div>\n",
       "<style scoped>\n",
       "    .dataframe tbody tr th:only-of-type {\n",
       "        vertical-align: middle;\n",
       "    }\n",
       "\n",
       "    .dataframe tbody tr th {\n",
       "        vertical-align: top;\n",
       "    }\n",
       "\n",
       "    .dataframe thead th {\n",
       "        text-align: right;\n",
       "    }\n",
       "</style>\n",
       "<table border=\"1\" class=\"dataframe\">\n",
       "  <thead>\n",
       "    <tr style=\"text-align: right;\">\n",
       "      <th></th>\n",
       "      <th>Longitude</th>\n",
       "      <th>Latitude</th>\n",
       "      <th>Description</th>\n",
       "      <th>Date</th>\n",
       "      <th>Station</th>\n",
       "    </tr>\n",
       "  </thead>\n",
       "  <tbody>\n",
       "    <tr>\n",
       "      <th>0</th>\n",
       "      <td>-93.286230</td>\n",
       "      <td>45.027240</td>\n",
       "      <td>HazMat release investigation w/no HazMat      ...</td>\n",
       "      <td>2012-02-21 00:00:00+00:00</td>\n",
       "      <td>20</td>\n",
       "    </tr>\n",
       "    <tr>\n",
       "      <th>1</th>\n",
       "      <td>-93.298301</td>\n",
       "      <td>44.997412</td>\n",
       "      <td>EMS-Asst medics-did NOT provide any BLS Treatm...</td>\n",
       "      <td>2012-01-01 00:00:00+00:00</td>\n",
       "      <td>04</td>\n",
       "    </tr>\n",
       "    <tr>\n",
       "      <th>2</th>\n",
       "      <td>-93.298333</td>\n",
       "      <td>44.948333</td>\n",
       "      <td>EMS call, excluding vehicle accident with inju...</td>\n",
       "      <td>2012-01-01 00:00:00+00:00</td>\n",
       "      <td>22</td>\n",
       "    </tr>\n",
       "    <tr>\n",
       "      <th>3</th>\n",
       "      <td>-93.247266</td>\n",
       "      <td>44.963666</td>\n",
       "      <td>Medical assist, assist EMS crew               ...</td>\n",
       "      <td>2012-01-01 00:00:00+00:00</td>\n",
       "      <td>07</td>\n",
       "    </tr>\n",
       "    <tr>\n",
       "      <th>4</th>\n",
       "      <td>-93.311575</td>\n",
       "      <td>45.006027</td>\n",
       "      <td>Dispatched &amp; cancelled en route               ...</td>\n",
       "      <td>2012-01-01 00:00:00+00:00</td>\n",
       "      <td>14</td>\n",
       "    </tr>\n",
       "    <tr>\n",
       "      <th>5</th>\n",
       "      <td>-93.231284</td>\n",
       "      <td>44.983857</td>\n",
       "      <td>EMS-Asst medics-did NOT provide any BLS Treatm...</td>\n",
       "      <td>2012-01-01 00:00:00+00:00</td>\n",
       "      <td>19</td>\n",
       "    </tr>\n",
       "    <tr>\n",
       "      <th>6</th>\n",
       "      <td>-93.237995</td>\n",
       "      <td>44.986543</td>\n",
       "      <td>Local alarm system, malicious false alarm     ...</td>\n",
       "      <td>2012-01-01 00:00:00+00:00</td>\n",
       "      <td>19</td>\n",
       "    </tr>\n",
       "    <tr>\n",
       "      <th>7</th>\n",
       "      <td>-93.271944</td>\n",
       "      <td>44.975278</td>\n",
       "      <td>EMS-Arrive &amp; Cancelled before PT Contact or No...</td>\n",
       "      <td>2012-01-01 00:00:00+00:00</td>\n",
       "      <td>06</td>\n",
       "    </tr>\n",
       "    <tr>\n",
       "      <th>8</th>\n",
       "      <td>-93.222883</td>\n",
       "      <td>44.970191</td>\n",
       "      <td>EMS-Asst medics-did NOT provide any BLS Treatm...</td>\n",
       "      <td>2012-01-01 00:00:00+00:00</td>\n",
       "      <td>19</td>\n",
       "    </tr>\n",
       "    <tr>\n",
       "      <th>9</th>\n",
       "      <td>-93.235556</td>\n",
       "      <td>44.980556</td>\n",
       "      <td>EMS call, excluding vehicle accident with inju...</td>\n",
       "      <td>2012-01-01 00:00:00+00:00</td>\n",
       "      <td>19</td>\n",
       "    </tr>\n",
       "  </tbody>\n",
       "</table>\n",
       "</div>"
      ],
      "text/plain": [
       "   Longitude   Latitude                                        Description  \\\n",
       "0 -93.286230  45.027240  HazMat release investigation w/no HazMat      ...   \n",
       "1 -93.298301  44.997412  EMS-Asst medics-did NOT provide any BLS Treatm...   \n",
       "2 -93.298333  44.948333  EMS call, excluding vehicle accident with inju...   \n",
       "3 -93.247266  44.963666  Medical assist, assist EMS crew               ...   \n",
       "4 -93.311575  45.006027  Dispatched & cancelled en route               ...   \n",
       "5 -93.231284  44.983857  EMS-Asst medics-did NOT provide any BLS Treatm...   \n",
       "6 -93.237995  44.986543  Local alarm system, malicious false alarm     ...   \n",
       "7 -93.271944  44.975278  EMS-Arrive & Cancelled before PT Contact or No...   \n",
       "8 -93.222883  44.970191  EMS-Asst medics-did NOT provide any BLS Treatm...   \n",
       "9 -93.235556  44.980556  EMS call, excluding vehicle accident with inju...   \n",
       "\n",
       "                       Date Station  \n",
       "0 2012-02-21 00:00:00+00:00     20   \n",
       "1 2012-01-01 00:00:00+00:00     04   \n",
       "2 2012-01-01 00:00:00+00:00     22   \n",
       "3 2012-01-01 00:00:00+00:00     07   \n",
       "4 2012-01-01 00:00:00+00:00     14   \n",
       "5 2012-01-01 00:00:00+00:00     19   \n",
       "6 2012-01-01 00:00:00+00:00     19   \n",
       "7 2012-01-01 00:00:00+00:00     06   \n",
       "8 2012-01-01 00:00:00+00:00     19   \n",
       "9 2012-01-01 00:00:00+00:00     19   "
      ]
     },
     "execution_count": 18,
     "metadata": {},
     "output_type": "execute_result"
    }
   ],
   "source": [
    "#rename columns for clarity\n",
    "final_fire_df = clean_fire_df.rename(columns={\"X\":\"Longitude\",\n",
    "                                              \"Y\":\"Latitude\" ,\n",
    "                                              \"descript\":\"Description\",\n",
    "                                              \"alm_date\":\"Date\",\n",
    "                                              \"station\":\"Station\"})\n",
    "final_fire_df.head(10)"
   ]
  },
  {
   "cell_type": "code",
   "execution_count": 20,
   "id": "556aa8cf",
   "metadata": {},
   "outputs": [],
   "source": [
    "#save final product as a JSON\n",
    "output_json = 'Resources/Fires_complete.json'\n",
    "final_fire_df.to_json(output_json, orient='records')"
   ]
  },
  {
   "cell_type": "code",
   "execution_count": null,
   "id": "c7b07295",
   "metadata": {},
   "outputs": [],
   "source": []
  }
 ],
 "metadata": {
  "kernelspec": {
   "display_name": "Python 3 (ipykernel)",
   "language": "python",
   "name": "python3"
  },
  "language_info": {
   "codemirror_mode": {
    "name": "ipython",
    "version": 3
   },
   "file_extension": ".py",
   "mimetype": "text/x-python",
   "name": "python",
   "nbconvert_exporter": "python",
   "pygments_lexer": "ipython3",
   "version": "3.9.13"
  }
 },
 "nbformat": 4,
 "nbformat_minor": 5
}
